{
 "cells": [
  {
   "cell_type": "markdown",
   "metadata": {
    "slideshow": {
     "slide_type": "slide"
    }
   },
   "source": [
    "<center><h1>\"Custo de consultas médicas\"</h1></center>\n",
    "<img src=\"imgs/personal.jpg\"></img>"
   ]
  },
  {
   "cell_type": "markdown",
   "metadata": {
    "slideshow": {
     "slide_type": "skip"
    }
   },
   "source": [
    "# Importando numpy, pandas, matplotlib e o  o dataset "
   ]
  },
  {
   "cell_type": "code",
   "execution_count": 20,
   "metadata": {
    "slideshow": {
     "slide_type": "skip"
    }
   },
   "outputs": [],
   "source": [
    "import numpy as np\n",
    "import pandas as pd\n",
    "import seaborn as sns\n",
    "import matplotlib.pyplot as plt\n",
    "from sklearn.ensemble import RandomForestClassifier\n",
    "\n",
    "df_train = pd.read_csv('insurance.csv')"
   ]
  },
  {
   "cell_type": "markdown",
   "metadata": {
    "slideshow": {
     "slide_type": "slide"
    }
   },
   "source": [
    "## O Dataset contém 1338 entradas e 7 colunas"
   ]
  },
  {
   "cell_type": "code",
   "execution_count": 40,
   "metadata": {
    "scrolled": true,
    "slideshow": {
     "slide_type": "-"
    }
   },
   "outputs": [
    {
     "data": {
      "text/plain": [
       "(1338, 8)"
      ]
     },
     "execution_count": 40,
     "metadata": {},
     "output_type": "execute_result"
    }
   ],
   "source": [
    "df_train.shape"
   ]
  },
  {
   "cell_type": "markdown",
   "metadata": {
    "slideshow": {
     "slide_type": "slide"
    }
   },
   "source": [
    "## Sendo essas colunas:\n",
    "<ul>\n",
    "    <li> age: Idade do paciente <code>18 .. 64</code></li>\n",
    "    <li> sex: Genero <code>[male, felame]</code> </li>\n",
    "    <li> bmi: IMC (Índice de massa corporal) <code>15.96 .. 53.13</code> </li>\n",
    "    <li> children: Número de dependentes do paciente <code> 0 .. 5 </code> </li>\n",
    "    <li> smoker: Se o paciente é ou não fumante <code>[yes, no]</code> </li>\n",
    "    <li> region: Area da residência do paciente <code> [northeast, southeast, southwest, northwest]</code> </li>\n",
    "    <li> charges: Preço individual faturado pelo plano de saúde <code> 1121.8739 .. 63770.42801</code> </li>\n",
    "</ul>"
   ]
  },
  {
   "cell_type": "code",
   "execution_count": 22,
   "metadata": {
    "scrolled": true,
    "slideshow": {
     "slide_type": "-"
    }
   },
   "outputs": [
    {
     "data": {
      "text/plain": [
       "['age', 'sex', 'bmi', 'children', 'smoker', 'region', 'charges']"
      ]
     },
     "execution_count": 22,
     "metadata": {},
     "output_type": "execute_result"
    }
   ],
   "source": [
    "df_train.columns.tolist()"
   ]
  },
  {
   "cell_type": "code",
   "execution_count": 23,
   "metadata": {
    "slideshow": {
     "slide_type": "subslide"
    }
   },
   "outputs": [
    {
     "data": {
      "text/html": [
       "<div>\n",
       "<style scoped>\n",
       "    .dataframe tbody tr th:only-of-type {\n",
       "        vertical-align: middle;\n",
       "    }\n",
       "\n",
       "    .dataframe tbody tr th {\n",
       "        vertical-align: top;\n",
       "    }\n",
       "\n",
       "    .dataframe thead th {\n",
       "        text-align: right;\n",
       "    }\n",
       "</style>\n",
       "<table border=\"1\" class=\"dataframe\">\n",
       "  <thead>\n",
       "    <tr style=\"text-align: right;\">\n",
       "      <th></th>\n",
       "      <th>age</th>\n",
       "      <th>sex</th>\n",
       "      <th>bmi</th>\n",
       "      <th>children</th>\n",
       "      <th>smoker</th>\n",
       "      <th>region</th>\n",
       "      <th>charges</th>\n",
       "    </tr>\n",
       "  </thead>\n",
       "  <tbody>\n",
       "    <tr>\n",
       "      <th>0</th>\n",
       "      <td>19</td>\n",
       "      <td>female</td>\n",
       "      <td>27.900</td>\n",
       "      <td>0</td>\n",
       "      <td>yes</td>\n",
       "      <td>southwest</td>\n",
       "      <td>16884.92400</td>\n",
       "    </tr>\n",
       "    <tr>\n",
       "      <th>1</th>\n",
       "      <td>18</td>\n",
       "      <td>male</td>\n",
       "      <td>33.770</td>\n",
       "      <td>1</td>\n",
       "      <td>no</td>\n",
       "      <td>southeast</td>\n",
       "      <td>1725.55230</td>\n",
       "    </tr>\n",
       "    <tr>\n",
       "      <th>2</th>\n",
       "      <td>28</td>\n",
       "      <td>male</td>\n",
       "      <td>33.000</td>\n",
       "      <td>3</td>\n",
       "      <td>no</td>\n",
       "      <td>southeast</td>\n",
       "      <td>4449.46200</td>\n",
       "    </tr>\n",
       "    <tr>\n",
       "      <th>3</th>\n",
       "      <td>33</td>\n",
       "      <td>male</td>\n",
       "      <td>22.705</td>\n",
       "      <td>0</td>\n",
       "      <td>no</td>\n",
       "      <td>northwest</td>\n",
       "      <td>21984.47061</td>\n",
       "    </tr>\n",
       "    <tr>\n",
       "      <th>4</th>\n",
       "      <td>32</td>\n",
       "      <td>male</td>\n",
       "      <td>28.880</td>\n",
       "      <td>0</td>\n",
       "      <td>no</td>\n",
       "      <td>northwest</td>\n",
       "      <td>3866.85520</td>\n",
       "    </tr>\n",
       "  </tbody>\n",
       "</table>\n",
       "</div>"
      ],
      "text/plain": [
       "   age     sex     bmi  children smoker     region      charges\n",
       "0   19  female  27.900         0    yes  southwest  16884.92400\n",
       "1   18    male  33.770         1     no  southeast   1725.55230\n",
       "2   28    male  33.000         3     no  southeast   4449.46200\n",
       "3   33    male  22.705         0     no  northwest  21984.47061\n",
       "4   32    male  28.880         0     no  northwest   3866.85520"
      ]
     },
     "execution_count": 23,
     "metadata": {},
     "output_type": "execute_result"
    }
   ],
   "source": [
    "df_train.head()"
   ]
  },
  {
   "cell_type": "markdown",
   "metadata": {
    "slideshow": {
     "slide_type": "slide"
    }
   },
   "source": [
    "# Transformando/Agrupando os dados"
   ]
  },
  {
   "cell_type": "markdown",
   "metadata": {
    "slideshow": {
     "slide_type": "subslide"
    }
   },
   "source": [
    "## Utilizando os percetis para agrupar os preços\n",
    "<p> Utilizar a função <code>percentile</code> do numpy para calcular os quartis(ou os percentis 25%,50% e 75%) eu agrupei os preços em três grupos com a mesma quantidade de entradas. Sendo: </p>\n",
    "<ul>\n",
    "    <li> <code>0. Baixo</code> : valores menores do que <b>4740.28715</b> </li>\n",
    "    <li> <code>1. Médio Baixo</code> : valores entre <b>4740.28715</b> inclusive e <b>9382.033</b> </li>\n",
    "    <li> <code>2. Médio Alto</code> : valores entre <b>9382.033</b> inclusive e <b>16639.912515</b> </li>\n",
    "    <li> <code>3. Alto</code> : valores maiores do que <b>16639.912515</b> inclusive </li>\n",
    "</ul>"
   ]
  },
  {
   "cell_type": "code",
   "execution_count": 24,
   "metadata": {
    "slideshow": {
     "slide_type": "subslide"
    }
   },
   "outputs": [],
   "source": [
    "p1 = np.percentile(df_train['charges'],25)\n",
    "p2 = np.percentile(df_train['charges'],50)\n",
    "p3 = np.percentile(df_train['charges'],75)\n",
    "def agrupa_preco(preco):\n",
    "    if preco < p1:\n",
    "        return 0\n",
    "    elif preco < p2:\n",
    "        return 1\n",
    "    elif preco < p3:\n",
    "        return 2\n",
    "    else:\n",
    "        return 3\n",
    "\n",
    "df_charges = df_train['charges']\n",
    "df_train['charges'] = df_train['charges'].apply(agrupa_preco)"
   ]
  },
  {
   "cell_type": "markdown",
   "metadata": {
    "slideshow": {
     "slide_type": "subslide"
    }
   },
   "source": [
    "### Baseado nos dados a seguir, esse dataset é balanceado."
   ]
  },
  {
   "cell_type": "code",
   "execution_count": 25,
   "metadata": {
    "slideshow": {
     "slide_type": "-"
    }
   },
   "outputs": [
    {
     "name": "stdout",
     "output_type": "stream",
     "text": [
      "Primeiro quartil:  4740.28715\n",
      "Segundo quartil:  9382.033\n",
      "Terceiro quartil:  16639.912515\n",
      "\n",
      " charges\n",
      "0    335\n",
      "1    334\n",
      "2    334\n",
      "3    335\n",
      "Name: age, dtype: int64\n"
     ]
    },
    {
     "data": {
      "image/png": "[encoded data removed]",
      "text/plain": [
       "<Figure size 432x288 with 1 Axes>"
      ]
     },
     "metadata": {
      "needs_background": "light"
     },
     "output_type": "display_data"
    }
   ],
   "source": [
    "print ('Primeiro quartil: ',p1)\n",
    "print ('Segundo quartil: ',p2)\n",
    "print ('Terceiro quartil: ',p3)\n",
    "\n",
    "print ('\\n',df_train.groupby('charges').count()['age'])\n",
    "df_train.groupby('charges').count()['age'].plot(kind='bar', title='Quantidade por grupo de preço')\n",
    "plt.show()\n",
    "df_train['charges'] = df_charges"
   ]
  },
  {
   "cell_type": "markdown",
   "metadata": {
    "slideshow": {
     "slide_type": "slide"
    }
   },
   "source": [
    "## Agrupando as idades\n",
    "<p> Os valores de idade variam entre 18 a 64 anos. Sendo assim eu decidi dividir os valores em três grupos, sendo: </p>\n",
    "<ul>\n",
    "    <li> <code>0. Adulto Jovem</code> : valores entre <b>18</b> inclusive e <b>30</b> </li>\n",
    "    <li> <code>1. Adulto</code> : valores entre <b>30</b> inclusive e <b>50</b> </li>\n",
    "    <li> <code>2. Senhor</code> : valores maiores do que <b>50</b> inclusive </li>\n",
    "</ul>"
   ]
  },
  {
   "cell_type": "code",
   "execution_count": 26,
   "metadata": {
    "slideshow": {
     "slide_type": "subslide"
    }
   },
   "outputs": [],
   "source": [
    "def agrupa_idade(idade):\n",
    "    if idade < 30:\n",
    "        return 0\n",
    "    elif idade < 50:\n",
    "        return 1\n",
    "    else:\n",
    "        return 2\n",
    "\n",
    "df_age = df_train['age']    \n",
    "df_train['age'] = df_train['age'].apply(agrupa_idade)"
   ]
  },
  {
   "cell_type": "code",
   "execution_count": 27,
   "metadata": {
    "slideshow": {
     "slide_type": "subslide"
    }
   },
   "outputs": [
    {
     "name": "stdout",
     "output_type": "stream",
     "text": [
      "age\n",
      "0    417\n",
      "1    536\n",
      "2    385\n",
      "Name: charges, dtype: int64 \n",
      "\n"
     ]
    },
    {
     "data": {
      "image/png": "[encoded data removed]",
      "text/plain": [
       "<Figure size 432x288 with 1 Axes>"
      ]
     },
     "metadata": {
      "needs_background": "light"
     },
     "output_type": "display_data"
    }
   ],
   "source": [
    "print (df_train.groupby('age').count()['charges'],'\\n')\n",
    "df_train.groupby('age').count()['charges'].plot(kind='bar', title='Quantidade por grupo de preço')\n",
    "plt.show()"
   ]
  },
  {
   "cell_type": "markdown",
   "metadata": {
    "slideshow": {
     "slide_type": "slide"
    }
   },
   "source": [
    "## Agrupando os IMCs\n",
    "<p>  O IMC serve para avaliar o peso do indivíduo em relação à sua altura e assim indicar se está dentro do peso ideal, acima ou abaixo do peso desejado. Existem sete classificações para o IMC, sendo: </p>\n",
    "<ul>\n",
    "    <li> <code>0. Muito Abaixo do Peso</code> : valores menores do que <b>17</b> </li>\n",
    "    <li> <code>1. Abaixo do Peso</code> : valores entre <b>17</b> inclusive e <b>18,5</b> </li>\n",
    "    <li> <code>2. Peso Normal</code> : valores entre <b>18,5</b> inclusive e <b>25</b> </li>\n",
    "    <li> <code>3. Acima do Peso</code> : valores entre <b>25</b> inclusive e <b>30</b> </li>\n",
    "    <li> <code>4. Obesidade Grau 1</code> : valores entre <b>30</b> inclusive e <b>35</b> </li>\n",
    "    <li> <code>5. Obesidade Grau 2</code> : valores entre <b>35</b> inclusive e <b>40</b> </li>\n",
    "    <li> <code>6. Obesidade Grau 3</code> : valores maiores do que <b>40</b> inclusive </li>\n",
    "</ul>"
   ]
  },
  {
   "cell_type": "code",
   "execution_count": 28,
   "metadata": {
    "slideshow": {
     "slide_type": "subslide"
    }
   },
   "outputs": [],
   "source": [
    "def agrupa_imc(imc):\n",
    "    if imc < 17:\n",
    "        return 0\n",
    "    elif imc < 18.5:\n",
    "        return 1\n",
    "    elif imc < 25:\n",
    "        return 2\n",
    "    elif imc < 30:\n",
    "        return 3\n",
    "    elif imc < 35:\n",
    "        return 4\n",
    "    elif imc < 40:\n",
    "        return 5\n",
    "    else:\n",
    "        return 6\n",
    "\n",
    "df_bmi = df_train['bmi']\n",
    "df_train['bmi'] = df_train['bmi'].apply(agrupa_imc)"
   ]
  },
  {
   "cell_type": "code",
   "execution_count": 29,
   "metadata": {
    "slideshow": {
     "slide_type": "subslide"
    }
   },
   "outputs": [
    {
     "name": "stdout",
     "output_type": "stream",
     "text": [
      "bmi\n",
      "0      3\n",
      "1     17\n",
      "2    225\n",
      "3    386\n",
      "4    391\n",
      "5    225\n",
      "6     91\n",
      "Name: charges, dtype: int64 \n",
      "\n"
     ]
    },
    {
     "data": {
      "image/png": "[encoded data removed]",
      "text/plain": [
       "<Figure size 432x288 with 1 Axes>"
      ]
     },
     "metadata": {
      "needs_background": "light"
     },
     "output_type": "display_data"
    }
   ],
   "source": [
    "print (df_train.groupby('bmi').count()['charges'],'\\n')\n",
    "df_train.groupby('bmi').count()['charges'].plot(kind='bar', title='Quantidade de entradas baseado no IMC')\n",
    "plt.show()"
   ]
  },
  {
   "cell_type": "markdown",
   "metadata": {
    "slideshow": {
     "slide_type": "slide"
    }
   },
   "source": [
    "## Transformando os dados que já estavam agrupados em valores numéricos "
   ]
  },
  {
   "cell_type": "code",
   "execution_count": 31,
   "metadata": {
    "slideshow": {
     "slide_type": "subslide"
    }
   },
   "outputs": [],
   "source": [
    "df_train['sex'] = df_train['sex'].apply(lambda sex: 0 if sex == 'male' else 1)\n",
    "df_train['smoker'] = df_train['smoker'].apply(lambda smoker: 1 if smoker == 'yes' else 0)\n",
    "df_train['region'] = df_train['region'].map({\n",
    "    'northeast' : 0,\n",
    "    'southeast' : 1,\n",
    "    'southwest' : 2,\n",
    "    'northwest' : 3\n",
    "})"
   ]
  },
  {
   "cell_type": "markdown",
   "metadata": {
    "slideshow": {
     "slide_type": "slide"
    }
   },
   "source": [
    "## Após as modificações o dataset ficou da seguinte forma:\n",
    "<ul>\n",
    "    <li> age: Idade do paciente <code>['0. Adulto Jovem', '1. Adulto', '2. Senhor']</code></li>\n",
    "    <li> sex: Genero <code>['0. male', '1. felame']</code> </li>\n",
    "    <li> bmi: IMC (Índice de massa corporal) <code>['0. Muito Abaixo do Peso', '1. Abaixo do Peso', '2. Peso Normal', '3. Acima do Peso', '4. Obesidade Grau 1', '5. Obesidade Grau 2', '6. Obesidade Grau 3']</code> </li>\n",
    "    <li> children: Número de dependentes do paciente <code> [0, 1 ,2 ,3 ,4, 5] </code> </li>\n",
    "    <li> smoker: Se o paciente é ou não fumante <code>['1. yes', '0. no']</code> </li>\n",
    "    <li> region: Area da residência do paciente <code> ['0. northeast', '1. southeast', '2. southwest', '3. northwest']</code> </li>\n",
    "    <li> charges: Preço individual faturado pelo plano de saúde <code> 1121.8739 .. 63770.42801</code> </li>\n",
    "</ul>"
   ]
  },
  {
   "cell_type": "code",
   "execution_count": 32,
   "metadata": {
    "slideshow": {
     "slide_type": "subslide"
    }
   },
   "outputs": [
    {
     "name": "stdout",
     "output_type": "stream",
     "text": [
      "['age', 'sex', 'bmi', 'children', 'smoker', 'region', 'charges']\n"
     ]
    },
    {
     "data": {
      "text/html": [
       "<div>\n",
       "<style scoped>\n",
       "    .dataframe tbody tr th:only-of-type {\n",
       "        vertical-align: middle;\n",
       "    }\n",
       "\n",
       "    .dataframe tbody tr th {\n",
       "        vertical-align: top;\n",
       "    }\n",
       "\n",
       "    .dataframe thead th {\n",
       "        text-align: right;\n",
       "    }\n",
       "</style>\n",
       "<table border=\"1\" class=\"dataframe\">\n",
       "  <thead>\n",
       "    <tr style=\"text-align: right;\">\n",
       "      <th></th>\n",
       "      <th>age</th>\n",
       "      <th>sex</th>\n",
       "      <th>bmi</th>\n",
       "      <th>children</th>\n",
       "      <th>smoker</th>\n",
       "      <th>region</th>\n",
       "      <th>charges</th>\n",
       "    </tr>\n",
       "  </thead>\n",
       "  <tbody>\n",
       "    <tr>\n",
       "      <th>0</th>\n",
       "      <td>0</td>\n",
       "      <td>1</td>\n",
       "      <td>3</td>\n",
       "      <td>0</td>\n",
       "      <td>1</td>\n",
       "      <td>2</td>\n",
       "      <td>16884.92400</td>\n",
       "    </tr>\n",
       "    <tr>\n",
       "      <th>1</th>\n",
       "      <td>0</td>\n",
       "      <td>0</td>\n",
       "      <td>4</td>\n",
       "      <td>1</td>\n",
       "      <td>0</td>\n",
       "      <td>1</td>\n",
       "      <td>1725.55230</td>\n",
       "    </tr>\n",
       "    <tr>\n",
       "      <th>2</th>\n",
       "      <td>0</td>\n",
       "      <td>0</td>\n",
       "      <td>4</td>\n",
       "      <td>3</td>\n",
       "      <td>0</td>\n",
       "      <td>1</td>\n",
       "      <td>4449.46200</td>\n",
       "    </tr>\n",
       "    <tr>\n",
       "      <th>3</th>\n",
       "      <td>1</td>\n",
       "      <td>0</td>\n",
       "      <td>2</td>\n",
       "      <td>0</td>\n",
       "      <td>0</td>\n",
       "      <td>3</td>\n",
       "      <td>21984.47061</td>\n",
       "    </tr>\n",
       "    <tr>\n",
       "      <th>4</th>\n",
       "      <td>1</td>\n",
       "      <td>0</td>\n",
       "      <td>3</td>\n",
       "      <td>0</td>\n",
       "      <td>0</td>\n",
       "      <td>3</td>\n",
       "      <td>3866.85520</td>\n",
       "    </tr>\n",
       "  </tbody>\n",
       "</table>\n",
       "</div>"
      ],
      "text/plain": [
       "   age  sex  bmi  children  smoker  region      charges\n",
       "0    0    1    3         0       1       2  16884.92400\n",
       "1    0    0    4         1       0       1   1725.55230\n",
       "2    0    0    4         3       0       1   4449.46200\n",
       "3    1    0    2         0       0       3  21984.47061\n",
       "4    1    0    3         0       0       3   3866.85520"
      ]
     },
     "execution_count": 32,
     "metadata": {},
     "output_type": "execute_result"
    }
   ],
   "source": [
    "print (df_train.columns.tolist())\n",
    "df_train.head()"
   ]
  },
  {
   "cell_type": "markdown",
   "metadata": {
    "slideshow": {
     "slide_type": "slide"
    }
   },
   "source": [
    "# Buscando informações importantes\n",
    "### Gráfico de correlações"
   ]
  },
  {
   "cell_type": "code",
   "execution_count": 33,
   "metadata": {
    "slideshow": {
     "slide_type": "subslide"
    }
   },
   "outputs": [
    {
     "data": {
      "text/plain": [
       "<matplotlib.axes._subplots.AxesSubplot at 0x7f29163a6c18>"
      ]
     },
     "execution_count": 33,
     "metadata": {},
     "output_type": "execute_result"
    },
    {
     "data": {
      "image/png": "[encoded data removed]",
      "text/plain": [
       "<Figure size 1080x1080 with 2 Axes>"
      ]
     },
     "metadata": {
      "needs_background": "light"
     },
     "output_type": "display_data"
    }
   ],
   "source": [
    "corr_mat = df_train.corr()\n",
    "\n",
    "f, ax = plt.subplots(figsize=(15, 15))\n",
    "\n",
    "sns.heatmap(\n",
    "    corr_mat, \n",
    "    annot=True, \n",
    "    square=True, \n",
    "    vmax=1, \n",
    "    vmin=-1\n",
    ")"
   ]
  },
  {
   "cell_type": "code",
   "execution_count": 34,
   "metadata": {
    "slideshow": {
     "slide_type": "subslide"
    }
   },
   "outputs": [
    {
     "data": {
      "image/png": "[encoded data removed]",
      "text/plain": [
       "<Figure size 432x288 with 1 Axes>"
      ]
     },
     "metadata": {
      "needs_background": "light"
     },
     "output_type": "display_data"
    }
   ],
   "source": [
    "clf = RandomForestClassifier(\n",
    "    n_estimators=50,\n",
    "    max_depth=5\n",
    ")\n",
    "\n",
    "clf.fit(\n",
    "    df_train.drop(['charges'], axis=1),\n",
    "    df_train['charges'].apply(agrupa_preco)\n",
    ")\n",
    "\n",
    "clf.feature_importances_\n",
    "\n",
    "feat_importances = pd.Series(\n",
    "    clf.feature_importances_, \n",
    "    index=df_train.drop(['charges'], axis=1).columns\n",
    ")\n",
    "feat_importances.plot(kind='barh');"
   ]
  },
  {
   "cell_type": "markdown",
   "metadata": {
    "slideshow": {
     "slide_type": "subslide"
    }
   },
   "source": [
    "<h2> Baseado nos valores acima, <code>smoker</code> e <code>age</code> tem a maior influência no preço respectivamente. Abaixo temos um gráfico comparando a variação dos preços para as colunas: </h2>"
   ]
  },
  {
   "cell_type": "code",
   "execution_count": 35,
   "metadata": {
    "scrolled": false,
    "slideshow": {
     "slide_type": "subslide"
    }
   },
   "outputs": [
    {
     "data": {
      "text/plain": [
       "<matplotlib.axes._subplots.AxesSubplot at 0x7f2915ed7588>"
      ]
     },
     "execution_count": 35,
     "metadata": {},
     "output_type": "execute_result"
    },
    {
     "data": {
      "image/png": "[encoded data removed]",
      "text/plain": [
       "<Figure size 1080x576 with 6 Axes>"
      ]
     },
     "metadata": {
      "needs_background": "light"
     },
     "output_type": "display_data"
    }
   ],
   "source": [
    "fig, axes = plt.subplots(nrows=2, ncols=3, figsize=(15, 8))\n",
    "fig.subplots_adjust(hspace=0.3)\n",
    "\n",
    "df_train.groupby('smoker').mean()['charges'].plot(ax=axes[0,0],kind='bar', title='Valor médio de fumantes X não fumantes')\n",
    "df_train.groupby('age').mean()['charges'].plot(ax=axes[0,1],kind='bar', title='Valor médio em relação às idades')\n",
    "df_train.groupby('bmi').mean()['charges'].plot(ax=axes[0,2],kind='bar', title='Valor médio em relação ao IMC')\n",
    "df_train.groupby('sex').mean()['charges'].plot(ax=axes[1,0],kind='bar', title='Valor médio em relação ao sexo')\n",
    "df_train.groupby('children').mean()['charges'].plot(ax=axes[1,1],kind='bar', title='Valor médio em relação ao número de dependentes')\n",
    "df_train.groupby('region').mean()['charges'].plot(ax=axes[1,2],kind='bar', title='Valor médio em relação à Região')"
   ]
  },
  {
   "cell_type": "code",
   "execution_count": 36,
   "metadata": {
    "slideshow": {
     "slide_type": "skip"
    }
   },
   "outputs": [],
   "source": [
    "df_train = df_train.assign(sma=0)\n",
    "pd.options.mode.chained_assignment = None\n",
    "for i in range(0, df_train.shape[0]):\n",
    "    if df_train['age'][i] == 0 and df_train['smoker'][i] == 0:\n",
    "        df_train['sma'][i] = 0\n",
    "    elif df_train['age'][i] == 1 and df_train['smoker'][i] == 0:\n",
    "        df_train['sma'][i] = 1\n",
    "    elif df_train['age'][i] == 2 and df_train['smoker'][i] == 0:\n",
    "        df_train['sma'][i] = 2\n",
    "    elif df_train['age'][i] == 0 and df_train['smoker'][i] == 1:\n",
    "        df_train['sma'][i] = 3\n",
    "    elif df_train['age'][i] == 1 and df_train['smoker'][i] == 1:\n",
    "        df_train['sma'][i] = 4\n",
    "    else:\n",
    "        df_train['sma'][i] = 5"
   ]
  },
  {
   "cell_type": "markdown",
   "metadata": {
    "slideshow": {
     "slide_type": "slide"
    }
   },
   "source": [
    "<h1>Por fim um gráfico de comparação dos valores médios de fumantes X não fumantes agrupados por idade</h1>"
   ]
  },
  {
   "cell_type": "code",
   "execution_count": 37,
   "metadata": {
    "scrolled": false,
    "slideshow": {
     "slide_type": "subslide"
    }
   },
   "outputs": [
    {
     "data": {
      "text/plain": [
       "<matplotlib.axes._subplots.AxesSubplot at 0x7f2915daa390>"
      ]
     },
     "execution_count": 37,
     "metadata": {},
     "output_type": "execute_result"
    },
    {
     "data": {
      "image/png": "[encoded data removed]",
      "text/plain": [
       "<Figure size 1080x576 with 1 Axes>"
      ]
     },
     "metadata": {
      "needs_background": "light"
     },
     "output_type": "display_data"
    }
   ],
   "source": [
    "df_train.groupby('sma').mean()['charges'].plot(kind='bar', figsize=(15, 8),title='Valor médio de fumantes X não fumantes agrupados por idade')"
   ]
  },
  {
   "cell_type": "markdown",
   "metadata": {
    "slideshow": {
     "slide_type": "subslide"
    }
   },
   "source": [
    "<h2>Um <code>Senhor Fumante</code> paga em média 8 vezes mais do que um <code>Adulto Jovem não Fumante</code></h2>"
   ]
  }
 ],
 "metadata": {
  "celltoolbar": "Slideshow",
  "kernelspec": {
   "display_name": "Python 3",
   "language": "python",
   "name": "python3"
  },
  "language_info": {
   "codemirror_mode": {
    "name": "ipython",
    "version": 3
   },
   "file_extension": ".py",
   "mimetype": "text/x-python",
   "name": "python",
   "nbconvert_exporter": "python",
   "pygments_lexer": "ipython3",
   "version": "3.6.5"
  }
 },
 "nbformat": 4,
 "nbformat_minor": 2
}
